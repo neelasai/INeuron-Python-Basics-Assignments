{
 "cells": [
  {
   "cell_type": "code",
   "execution_count": 7,
   "metadata": {},
   "outputs": [
    {
     "name": "stdout",
     "output_type": "stream",
     "text": [
      "Enter the kms120\n",
      "Distance in miles is: 74.56452\n"
     ]
    }
   ],
   "source": [
    "#1. Write a Python program to convert kilometers to miles?\n",
    "km=float(input(\"Enter the kms\"))\n",
    "Mile=0.621371*km\n",
    "print(\"Distance in miles is:\", Mile)"
   ]
  },
  {
   "cell_type": "code",
   "execution_count": 9,
   "metadata": {},
   "outputs": [
    {
     "name": "stdout",
     "output_type": "stream",
     "text": [
      "Enter temp in celsius98\n",
      "Temperature in Fahrenheit is: 208.4\n"
     ]
    }
   ],
   "source": [
    "#2. Write a Python program to convert Celsius to Fahrenheit?\n",
    "celsius=float(input(\"Enter temp in celsius\"))\n",
    "Fahrenheit=(celsius*9/5)+32\n",
    "print(\"Temperature in Fahrenheit is:\",Fahrenheit)"
   ]
  },
  {
   "cell_type": "code",
   "execution_count": 10,
   "metadata": {},
   "outputs": [
    {
     "name": "stdout",
     "output_type": "stream",
     "text": [
      "Input the year : 2021\n",
      "Input the month : 4\n",
      "     April 2021\n",
      "Mo Tu We Th Fr Sa Su\n",
      "          1  2  3  4\n",
      " 5  6  7  8  9 10 11\n",
      "12 13 14 15 16 17 18\n",
      "19 20 21 22 23 24 25\n",
      "26 27 28 29 30\n",
      "\n"
     ]
    }
   ],
   "source": [
    "#3. Write a Python program to display calendar?\n",
    "import calendar\n",
    "year = int(input(\"Input the year : \"))\n",
    "month = int(input(\"Input the month : \"))\n",
    "print(calendar.month(year, month))"
   ]
  },
  {
   "cell_type": "code",
   "execution_count": 16,
   "metadata": {},
   "outputs": [
    {
     "name": "stdout",
     "output_type": "stream",
     "text": [
      "Enter the value of a in Quadratic equation5\n",
      "Enter the value of b in Quadratic equation20\n",
      "Enter the value of c in Quadratic equation10\n",
      "The values are: -0.5857864376269049 , -3.414213562373095\n"
     ]
    }
   ],
   "source": [
    "#4. Write a Python program to solve quadratic equation?\n",
    "a=int(input(\"Enter the value of a in Quadratic equation\"))\n",
    "b=int(input(\"Enter the value of b in Quadratic equation\"))\n",
    "c=int(input(\"Enter the value of c in Quadratic equation\"))\n",
    "value1=((-b+(b**2-4*a*c)**0.5)/(2*a))\n",
    "value2=(-b-(b**2-4*a*c)**0.5)/(2*a)\n",
    "print(\"The values are:\",value1,\",\",value2)"
   ]
  },
  {
   "cell_type": "code",
   "execution_count": 19,
   "metadata": {},
   "outputs": [
    {
     "name": "stdout",
     "output_type": "stream",
     "text": [
      "input enter a number56\n",
      "input enter a number45\n",
      "Value of a is: 45 Value of b is: 56\n"
     ]
    }
   ],
   "source": [
    "#5. Write a Python program to swap two variables without temp variable?\n",
    "a=int(input(\"input enter a number\"))\n",
    "b=int(input(\"input enter a number\"))\n",
    "l=[a,b]\n",
    "l.reverse()\n",
    "a=l[0]\n",
    "b=l[1]\n",
    "print(\"Value of a is:\",a,\"Value of b is:\",b )"
   ]
  },
  {
   "cell_type": "code",
   "execution_count": 20,
   "metadata": {},
   "outputs": [
    {
     "name": "stdout",
     "output_type": "stream",
     "text": [
      "input enter a number54\n",
      "input enter a number89\n",
      "Value of a is: 89 Value of b is: 54\n"
     ]
    }
   ],
   "source": [
    "a=int(input(\"input enter a number\"))\n",
    "b=int(input(\"input enter a number\"))\n",
    "a,b=b,a\n",
    "print(\"Value of a is:\",a,\"Value of b is:\",b )"
   ]
  },
  {
   "cell_type": "code",
   "execution_count": null,
   "metadata": {},
   "outputs": [],
   "source": []
  }
 ],
 "metadata": {
  "kernelspec": {
   "display_name": "Python 3",
   "language": "python",
   "name": "python3"
  },
  "language_info": {
   "codemirror_mode": {
    "name": "ipython",
    "version": 3
   },
   "file_extension": ".py",
   "mimetype": "text/x-python",
   "name": "python",
   "nbconvert_exporter": "python",
   "pygments_lexer": "ipython3",
   "version": "3.8.5"
  }
 },
 "nbformat": 4,
 "nbformat_minor": 4
}
