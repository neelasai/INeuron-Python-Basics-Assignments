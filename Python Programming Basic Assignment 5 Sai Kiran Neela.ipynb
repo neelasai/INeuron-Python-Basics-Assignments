{
 "cells": [
  {
   "cell_type": "code",
   "execution_count": null,
   "metadata": {},
   "outputs": [],
   "source": [
    "#1.\tWrite a Python Program to Find LCM?\n",
    "number1=int(input(\"Enter the first number\"))\n",
    "number2=int(input(\"Enter the second number\"))\n",
    "if number1>number2:\n",
    "            largest=number1\n",
    "else:\n",
    "            largest=number2\n",
    "\n",
    "while(True):\n",
    "        if((largest%number1==0)and (largest%number2==0)):\n",
    "            print(\"LCM of number is:\",largest)\n",
    "            break\n",
    "        largest+=1"
   ]
  },
  {
   "cell_type": "code",
   "execution_count": 3,
   "metadata": {},
   "outputs": [
    {
     "name": "stdout",
     "output_type": "stream",
     "text": [
      "Enter the first number48\n",
      "Enter the second number52\n",
      "4\n"
     ]
    }
   ],
   "source": [
    "#2.\tWrite a Python Program to Find HCF?\n",
    "number1=int(input(\"Enter the first number\"))\n",
    "number2=int(input(\"Enter the second number\"))\n",
    "x=1\n",
    "l=[]\n",
    "if number1<number2:\n",
    "           smallest=number1\n",
    "else:\n",
    "            smallest=number2\n",
    "while(x<(smallest+1)):\n",
    "    if((number1%x==0)and (number2%x==0)):\n",
    "        l.append(x)\n",
    "    x+=1\n",
    "print(l[-1])\n"
   ]
  },
  {
   "cell_type": "code",
   "execution_count": 9,
   "metadata": {},
   "outputs": [
    {
     "name": "stdout",
     "output_type": "stream",
     "text": [
      "Enter a number5\n",
      "Binary number is: 0b101 Octal number is: 0o5 Hexadecimal number is: 0x5\n"
     ]
    }
   ],
   "source": [
    "#3.\tWrite a Python Program to Convert Decimal to Binary, Octal and Hexadecimal?\n",
    "x=int(input(\"Enter a number\"))\n",
    "b=bin(x)\n",
    "o=oct(x)\n",
    "h=hex(x)\n",
    "print(\"Binary number is:\",b,\"Octal number is:\",o,\"Hexadecimal number is:\",h)"
   ]
  },
  {
   "cell_type": "code",
   "execution_count": 11,
   "metadata": {},
   "outputs": [
    {
     "name": "stdout",
     "output_type": "stream",
     "text": [
      "Enter a characterh\n",
      "ASCII values of  h  is: 104\n"
     ]
    }
   ],
   "source": [
    "#4.\tWrite a Python Program To Find ASCII value of a character?\n",
    "x=input(\"Enter a character\")\n",
    "print(\"ASCII values of \",x,\" is:\",ord(x))\n"
   ]
  },
  {
   "cell_type": "code",
   "execution_count": 20,
   "metadata": {},
   "outputs": [],
   "source": [
    "#5.\tWrite a Python Program to Make a Simple Calculator with 4 basic mathematical operations?\n",
    "def sum(a,b):\n",
    "    return(a+b)\n",
    "def sub(a,b):\n",
    "    return(a-b)\n",
    "def mul(a,b):\n",
    "    return(a*b)\n",
    "def div(a,b):\n",
    "    return(a/b)"
   ]
  },
  {
   "cell_type": "code",
   "execution_count": 21,
   "metadata": {},
   "outputs": [
    {
     "name": "stdout",
     "output_type": "stream",
     "text": [
      "Enter the operation to be performeddiv\n",
      "Enter a number87\n",
      "Enter a number56\n",
      "1.5535714285714286\n"
     ]
    }
   ],
   "source": [
    "x=input(\"Enter the operation to be performed\")\n",
    "a=int(input(\"Enter a number\"))\n",
    "b=int(input(\"Enter a number\"))\n",
    "if x==\"sum\":\n",
    "    print(sum(a,b))\n",
    "elif x==\"sub\":\n",
    "    print(sub(a,b))\n",
    "elif x==\"mul\":\n",
    "    print(mul(a,b))\n",
    "elif x==\"div\":\n",
    "    print(div(a,b))"
   ]
  },
  {
   "cell_type": "code",
   "execution_count": null,
   "metadata": {},
   "outputs": [],
   "source": []
  }
 ],
 "metadata": {
  "kernelspec": {
   "display_name": "Python 3",
   "language": "python",
   "name": "python3"
  },
  "language_info": {
   "codemirror_mode": {
    "name": "ipython",
    "version": 3
   },
   "file_extension": ".py",
   "mimetype": "text/x-python",
   "name": "python",
   "nbconvert_exporter": "python",
   "pygments_lexer": "ipython3",
   "version": "3.8.5"
  }
 },
 "nbformat": 4,
 "nbformat_minor": 4
}
